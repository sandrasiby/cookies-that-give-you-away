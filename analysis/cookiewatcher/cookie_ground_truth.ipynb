{
 "cells": [
  {
   "cell_type": "code",
   "execution_count": 221,
   "id": "supposed-brazilian",
   "metadata": {},
   "outputs": [],
   "source": [
    "import pandas as pd\n",
    "from openwpm_utils import domain as du"
   ]
  },
  {
   "cell_type": "code",
   "execution_count": 222,
   "id": "advisory-setup",
   "metadata": {},
   "outputs": [
    {
     "name": "stderr",
     "output_type": "stream",
     "text": [
      "/Users/siby/opt/miniconda3/lib/python3.8/site-packages/IPython/core/interactiveshell.py:3165: DtypeWarning: Columns (5,7,18) have mixed types.Specify dtype option on import or set low_memory=False.\n",
      "  has_raised = await self.run_ast_nodes(code_ast.body, cell_name,\n"
     ]
    }
   ],
   "source": [
    "current_gt = \"/Users/siby/Downloads/small_dataset_labels.csv\"\n",
    "df = pd.read_csv(current_gt)\n",
    "df = df[df['visit_id'] <= 100]"
   ]
  },
  {
   "cell_type": "code",
   "execution_count": 223,
   "id": "hollywood-gamma",
   "metadata": {},
   "outputs": [
    {
     "name": "stdout",
     "output_type": "stream",
     "text": [
      "Total: 14807\n",
      "Labelled: 3584 24.204768015127982 %\n",
      "Positive: 1393 9.407712568379822 %\n",
      "Negative: 2191 14.797055446748159 %\n"
     ]
    }
   ],
   "source": [
    "#Stats on current ground truth\n",
    "total = len(df)\n",
    "labelled = len(df[df['final_label'].notnull()])\n",
    "positive = len(df[df['final_label'] == 'Positive'])\n",
    "negative = len(df[df['final_label'] == 'Negative'])\n",
    "print(\"Total:\", total)\n",
    "print(\"Labelled:\", labelled, labelled/total*100, \"%\")\n",
    "print(\"Positive:\", positive, positive/total*100, \"%\")\n",
    "print(\"Negative:\", negative, negative/total*100, \"%\")"
   ]
  },
  {
   "cell_type": "code",
   "execution_count": 224,
   "id": "outdoor-house",
   "metadata": {},
   "outputs": [],
   "source": [
    "new_gt = \"../../data/id_cookies_delim.p\"\n",
    "data_dict = pd.read_pickle(new_gt)"
   ]
  },
  {
   "cell_type": "code",
   "execution_count": 225,
   "id": "alpine-corps",
   "metadata": {},
   "outputs": [],
   "source": [
    "def convert_cookie_info(data_dict):\n",
    "    \n",
    "    cookie_info = []\n",
    "    for domain, cookienames in data_dict.items():\n",
    "        for cookiename in cookienames:\n",
    "            if domain[0] == \".\":\n",
    "                domain = domain[1:]\n",
    "            new_domain = du.get_ps_plus_1(\"http://\" + domain)\n",
    "            cookie_info.append((cookiename, new_domain))\n",
    "    cookie_info = list(set(cookie_info))\n",
    "    cookie_info = [(x[0].split('#')[0], x[1]) for x in cookie_info]\n",
    "    df_new = pd.DataFrame(cookie_info, columns=['name', 'domain'])\n",
    "    return df_new, cookie_info"
   ]
  },
  {
   "cell_type": "code",
   "execution_count": 226,
   "id": "alien-newcastle",
   "metadata": {},
   "outputs": [],
   "source": [
    "df_new, cookie_info = convert_cookie_info(data_dict)"
   ]
  },
  {
   "cell_type": "code",
   "execution_count": 227,
   "id": "gentle-yukon",
   "metadata": {},
   "outputs": [],
   "source": [
    "def update_label(row):\n",
    "    \n",
    "    name = row['name']\n",
    "    domain = row['domain']\n",
    "    \n",
    "    if (name, domain) in cookie_info:\n",
    "        if row['final_label'] != 'Positive':\n",
    "            updated_info.append((name, domain))\n",
    "        return \"Positive\"\n",
    "    return row['final_label']\n",
    "\n",
    "updated_info = []\n",
    "df['final_label'] = df.apply(update_label, axis=1)"
   ]
  },
  {
   "cell_type": "code",
   "execution_count": 228,
   "id": "proved-victoria",
   "metadata": {},
   "outputs": [
    {
     "name": "stdout",
     "output_type": "stream",
     "text": [
      "Stats with updated labels\n",
      "Total: 14807\n",
      "Labelled: 4035 27.25062470453164 %\n",
      "Positive: 1848 12.480583507800365 %\n",
      "Negative: 2187 14.770041196731276 %\n"
     ]
    }
   ],
   "source": [
    "total = len(df)\n",
    "labelled = len(df[df['final_label'].notnull()])\n",
    "positive = len(df[df['final_label'] == 'Positive'])\n",
    "negative = len(df[df['final_label'] == 'Negative'])\n",
    "print(\"Stats with updated labels\")\n",
    "print(\"Total:\", total)\n",
    "print(\"Labelled:\", labelled, labelled/total*100, \"%\")\n",
    "print(\"Positive:\", positive, positive/total*100, \"%\")\n",
    "print(\"Negative:\", negative, negative/total*100, \"%\")"
   ]
  },
  {
   "cell_type": "code",
   "execution_count": 229,
   "id": "apparent-tamil",
   "metadata": {},
   "outputs": [
    {
     "name": "stdout",
     "output_type": "stream",
     "text": [
      "Number of ID cookies found: 119\n",
      "Number of updated values: 455\n",
      "Number of unique updated values: 70\n"
     ]
    }
   ],
   "source": [
    "print(\"Number of ID cookies found:\", len(cookie_info))\n",
    "print(\"Number of updated values:\", len(updated_info))\n",
    "print(\"Number of unique updated values:\", len(set(updated_info)))"
   ]
  },
  {
   "cell_type": "code",
   "execution_count": 207,
   "id": "stuck-principle",
   "metadata": {},
   "outputs": [
    {
     "name": "stdout",
     "output_type": "stream",
     "text": [
      "Cookies we don't see in the old crawl:\n"
     ]
    },
    {
     "data": {
      "text/plain": [
       "{('A1', 'yahoo.com'),\n",
       " ('A3', 'yahoo.com'),\n",
       " ('CDI', 'canva.com'),\n",
       " ('MUID', 'microsoft.com'),\n",
       " ('MUID', 'msn.com'),\n",
       " ('MUIDB', 'bing.com'),\n",
       " ('MicrosoftApplicationsTelemetryDeviceId', 'microsoft.com'),\n",
       " ('OH.FLID', 'office.com'),\n",
       " ('VISITOR_INFO1_LIVE', 'youtube.com'),\n",
       " ('X-FD-FEATURES', 'microsoft.com'),\n",
       " ('__Host-ss', 'dropbox.com'),\n",
       " ('__auc', 'imgur.com'),\n",
       " ('__sdcfduid', 'discord.com'),\n",
       " ('__uzmf', 'ebay.com'),\n",
       " ('_cc_id', 'okezone.com'),\n",
       " ('_statid', 'ok.ru'),\n",
       " ('_uetvid', 'canva.com'),\n",
       " ('_uetvid', 'walmart.com'),\n",
       " ('amplitude_testimgur.com', 'imgur.com'),\n",
       " ('arms_uid', 'taobao.com'),\n",
       " ('ashiato-travel-id', 'rakuten.co.jp'),\n",
       " ('au_id', 'fandom.com'),\n",
       " ('bci', 'ok.ru'),\n",
       " ('bs', 'pornhub.com'),\n",
       " ('bscookie', 'linkedin.com'),\n",
       " ('bt3', 'yahoo.co.jp'),\n",
       " ('btc', 'walmart.com'),\n",
       " ('datr', 'facebook.com'),\n",
       " ('dssid2', 'apple.com'),\n",
       " ('gvc', 'dropbox.com'),\n",
       " ('i', 'yandex.ru'),\n",
       " ('ig_did', 'instagram.com'),\n",
       " ('mrcu', 'mail.ru'),\n",
       " ('optimizelyEndUserId', 'medium.com'),\n",
       " ('prov', 'stackoverflow.com'),\n",
       " ('remixstid', 'vk.com'),\n",
       " ('sailthru_visitor', 'fandom.com'),\n",
       " ('sb', 'facebook.com'),\n",
       " ('sbr', 'chaturbate.com'),\n",
       " ('sid', 'medium.com'),\n",
       " ('t', 'dropbox.com'),\n",
       " ('tmr_lvid', 'vk.com'),\n",
       " ('uid', 'medium.com'),\n",
       " ('unique_id_durable', 'twitch.tv'),\n",
       " ('wa_ul', 'whatsapp.com'),\n",
       " ('xman_us_f', 'aliexpress.com')}"
      ]
     },
     "execution_count": 207,
     "metadata": {},
     "output_type": "execute_result"
    }
   ],
   "source": [
    "print(\"Cookies we don't see in the old crawl:\")\n",
    "set(cookie_info) - set(updated_info)"
   ]
  },
  {
   "cell_type": "code",
   "execution_count": 208,
   "id": "imported-nicaragua",
   "metadata": {},
   "outputs": [
    {
     "name": "stdout",
     "output_type": "stream",
     "text": [
      "Cookies that get updated labels\n"
     ]
    },
    {
     "data": {
      "text/plain": [
       "{('CTK', 'indeed.com'),\n",
       " ('ClientId', 'live.com'),\n",
       " ('MC1', 'microsoft.com'),\n",
       " ('MSFPC', 'live.com'),\n",
       " ('MSFPC', 'microsoft.com'),\n",
       " ('MSFPC', 'office.com'),\n",
       " ('MUID', 'bing.com'),\n",
       " ('MUID', 'office.com'),\n",
       " ('MicrosoftApplicationsTelemetryDeviceId', 'office.com'),\n",
       " ('OptanonConsent', 'netflix.com'),\n",
       " ('OptanonConsent', 'salesforce.com'),\n",
       " ('OptanonConsent', 'udemy.com'),\n",
       " ('REPORT_UID_', 'huanqiu.com'),\n",
       " ('Rt', 'rakuten.co.jp'),\n",
       " ('SRCHUID', 'bing.com'),\n",
       " ('__Host-js_csrf', 'dropbox.com'),\n",
       " ('__auc', 'aparat.com'),\n",
       " ('__auc', 'bongacams.com'),\n",
       " ('__auc', 'okezone.com'),\n",
       " ('__auc', 'tribunnews.com'),\n",
       " ('__gads', 'fandom.com'),\n",
       " ('__gads', 'mail.ru'),\n",
       " ('__gads', 'okezone.com'),\n",
       " ('__gads', 'tribunnews.com'),\n",
       " ('__gads', 'yahoo.co.jp'),\n",
       " ('__sstester', 'ebay.com'),\n",
       " ('__udmy_2_v57r', 'udemy.com'),\n",
       " ('__utfpp', 'chaturbate.com'),\n",
       " ('__uzma', 'ebay.com'),\n",
       " ('__uzmc', 'ebay.com'),\n",
       " ('_hjid', 'coinmarketcap.com'),\n",
       " ('_js_datr', 'facebook.com'),\n",
       " ('_ra', 'rakuten.co.jp'),\n",
       " ('_zm_mtk_guid', 'zoom.us'),\n",
       " ('akacd_OneRF', 'microsoft.com'),\n",
       " ('api_token', 'twitch.tv'),\n",
       " ('bcookie', 'linkedin.com'),\n",
       " ('bnc-uuid', 'binance.com'),\n",
       " ('cna', '1688.com'),\n",
       " ('cna', 'aliexpress.com'),\n",
       " ('cna', 'tmall.com'),\n",
       " ('csrftoken', 'chaturbate.com'),\n",
       " ('csrftoken', 'instagram.com'),\n",
       " ('csrftoken', 'udemy.com'),\n",
       " ('edgebucket', 'reddit.com'),\n",
       " ('memclid', 'netflix.com'),\n",
       " ('mid', 'instagram.com'),\n",
       " ('nyt-a', 'nytimes.com'),\n",
       " ('permutive-id', 'fandom.com'),\n",
       " ('personalization_id', 'twitter.com'),\n",
       " ('pgv_pvid', 'qq.com'),\n",
       " ('s_ecid', 'salesforce.com'),\n",
       " ('session-id', 'amazon.co.jp'),\n",
       " ('session-id', 'amazon.in'),\n",
       " ('session-id', 'imdb.com'),\n",
       " ('session-id', 'primevideo.com'),\n",
       " ('sp_t', 'spotify.com'),\n",
       " ('ss', 'pornhub.com'),\n",
       " ('tmr_lvid', 'mail.ru'),\n",
       " ('tmr_lvid', 'ok.ru'),\n",
       " ('ts_uid', 'qq.com'),\n",
       " ('uaid', 'etsy.com'),\n",
       " ('ubid-acbin', 'amazon.in'),\n",
       " ('ubid-acbjp', 'amazon.co.jp'),\n",
       " ('ubid-main', 'imdb.com'),\n",
       " ('uh', 'bongacams.com'),\n",
       " ('unique_id', 'twitch.tv'),\n",
       " ('v1st', 'chase.com'),\n",
       " ('vtc', 'walmart.com'),\n",
       " ('wikia_beacon_id', 'fandom.com')}"
      ]
     },
     "execution_count": 208,
     "metadata": {},
     "output_type": "execute_result"
    }
   ],
   "source": [
    "print(\"Cookies that get updated labels\")\n",
    "set(updated_info)"
   ]
  },
  {
   "cell_type": "code",
   "execution_count": 209,
   "id": "excellent-eight",
   "metadata": {},
   "outputs": [],
   "source": [
    "with open(\"updated_cookies\", \"w\") as f:\n",
    "    for item in set(updated_info):\n",
    "        f.write(item[0] + \" |$| \" + item[1] + \"\\n\")"
   ]
  },
  {
   "cell_type": "code",
   "execution_count": null,
   "id": "toxic-warehouse",
   "metadata": {},
   "outputs": [],
   "source": []
  }
 ],
 "metadata": {
  "kernelspec": {
   "display_name": "Python 3",
   "language": "python",
   "name": "python3"
  },
  "language_info": {
   "codemirror_mode": {
    "name": "ipython",
    "version": 3
   },
   "file_extension": ".py",
   "mimetype": "text/x-python",
   "name": "python",
   "nbconvert_exporter": "python",
   "pygments_lexer": "ipython3",
   "version": "3.8.5"
  }
 },
 "nbformat": 4,
 "nbformat_minor": 5
}
